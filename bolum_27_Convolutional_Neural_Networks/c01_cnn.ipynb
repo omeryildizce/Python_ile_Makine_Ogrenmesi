{
 "cells": [
  {
   "cell_type": "code",
   "execution_count": 65,
   "metadata": {},
   "outputs": [],
   "source": [
    "from keras.models import Sequential \n",
    "from keras.layers import Convolution2D, MaxPooling2D, Flatten, Dense"
   ]
  },
  {
   "cell_type": "code",
   "execution_count": 66,
   "metadata": {},
   "outputs": [],
   "source": [
    "# ilkleme\n",
    "classifier = Sequential()\n",
    "# Adım 1 - Convolution\n",
    "classifier.add(Convolution2D(32, 3, 3, input_shape = (64, 64, 3), activation = 'relu'))\n",
    "# Adım 2 - Pooling\n",
    "classifier.add(MaxPooling2D(pool_size = (2, 2)))\n",
    "# 2. convolution katmanı\n",
    "classifier.add(Convolution2D(32, 3, 3, activation = 'relu'))\n",
    "classifier.add(MaxPooling2D(pool_size = (2, 2)))\n",
    "# Adım 3 - Flattening\n",
    "classifier.add(Flatten())\n",
    "# Adım 4 - YSA\n",
    "classifier.add(Dense(units = 128, activation = 'relu'))\n",
    "classifier.add(Dense(units = 128, activation = 'relu'))\n",
    "classifier.add(Dense(units = 128, activation = 'relu'))\n",
    "classifier.add(Dense(units = 1, activation = 'sigmoid'))\n",
    "# CNN\n",
    "classifier.compile(optimizer = 'adam', loss = 'binary_crossentropy', metrics = ['accuracy'])"
   ]
  },
  {
   "cell_type": "markdown",
   "metadata": {},
   "source": [
    "Veriler: <a href=\"https://bilkav.com/wp-content/uploads/2020/03/27CNN_Cinsiyet.zip\">dataset download link</a>"
   ]
  },
  {
   "cell_type": "code",
   "execution_count": 67,
   "metadata": {},
   "outputs": [],
   "source": [
    "from keras.preprocessing.image import ImageDataGenerator\n",
    "train_datagen = ImageDataGenerator(rescale=1./255, shear_range=0.2 ,zoom_range = 0.2, horizontal_flip = True)\n",
    "test_datagen = ImageDataGenerator(rescale=1./255, shear_range=0.2 ,zoom_range = 0.2, horizontal_flip = True)"
   ]
  },
  {
   "cell_type": "code",
   "execution_count": 68,
   "metadata": {},
   "outputs": [
    {
     "name": "stdout",
     "output_type": "stream",
     "text": [
      "Found 2662 images belonging to 2 classes.\n",
      "Found 203 images belonging to 2 classes.\n"
     ]
    }
   ],
   "source": [
    "training_set = train_datagen.flow_from_directory(\"../veriler/training_set\", target_size=(64,64), batch_size=1, class_mode=\"binary\")\n",
    "test_set = train_datagen.flow_from_directory(\"../veriler/test_set\", target_size=(64,64), batch_size=1, class_mode=\"binary\")"
   ]
  },
  {
   "cell_type": "code",
   "execution_count": 69,
   "metadata": {},
   "outputs": [
    {
     "name": "stdout",
     "output_type": "stream",
     "text": [
      "Epoch 1/10\n",
      "2662/2662 [==============================] - 24s 8ms/step - loss: 0.5665 - accuracy: 0.7096 - val_loss: 0.3515 - val_accuracy: 0.8227\n",
      "Epoch 2/10\n",
      "2662/2662 [==============================] - 40s 15ms/step - loss: 0.4574 - accuracy: 0.7832 - val_loss: 0.3642 - val_accuracy: 0.7537\n",
      "Epoch 3/10\n",
      "2662/2662 [==============================] - 49s 18ms/step - loss: 0.4192 - accuracy: 0.8043 - val_loss: 0.2756 - val_accuracy: 0.8325\n",
      "Epoch 4/10\n",
      "2662/2662 [==============================] - 40s 15ms/step - loss: 0.3797 - accuracy: 0.8110 - val_loss: 0.3251 - val_accuracy: 0.7833\n",
      "Epoch 5/10\n",
      "2662/2662 [==============================] - 35s 13ms/step - loss: 0.3544 - accuracy: 0.8310 - val_loss: 0.3096 - val_accuracy: 0.8227\n",
      "Epoch 6/10\n",
      "2662/2662 [==============================] - 39s 15ms/step - loss: 0.3502 - accuracy: 0.8298 - val_loss: 0.2144 - val_accuracy: 0.9064\n",
      "Epoch 7/10\n",
      "2662/2662 [==============================] - 45s 17ms/step - loss: 0.3363 - accuracy: 0.8313 - val_loss: 0.2316 - val_accuracy: 0.8818\n",
      "Epoch 8/10\n",
      "2662/2662 [==============================] - 26s 10ms/step - loss: 0.3221 - accuracy: 0.8437 - val_loss: 0.2978 - val_accuracy: 0.8670\n",
      "Epoch 9/10\n",
      "2662/2662 [==============================] - 15s 6ms/step - loss: 0.3055 - accuracy: 0.8422 - val_loss: 0.2834 - val_accuracy: 0.8719\n",
      "Epoch 10/10\n",
      "2662/2662 [==============================] - 15s 6ms/step - loss: 0.2952 - accuracy: 0.8576 - val_loss: 0.2841 - val_accuracy: 0.8522\n"
     ]
    },
    {
     "data": {
      "text/plain": [
       "<keras.callbacks.History at 0x2180935c520>"
      ]
     },
     "execution_count": 69,
     "metadata": {},
     "output_type": "execute_result"
    }
   ],
   "source": [
    "classifier.fit(training_set,epochs = 10,validation_data = test_set)"
   ]
  },
  {
   "cell_type": "code",
   "execution_count": 70,
   "metadata": {},
   "outputs": [],
   "source": [
    "import numpy as np\n",
    "import pandas as pd"
   ]
  },
  {
   "cell_type": "code",
   "execution_count": 75,
   "metadata": {},
   "outputs": [
    {
     "name": "stdout",
     "output_type": "stream",
     "text": [
      "203/203 [==============================] - 3s 13ms/step\n",
      "Prediction\n",
      "test_labels\n",
      "[1.0, 1.0, 1.0, 0.0, 0.0, 0.0, 1.0, 0.0, 0.0, 0.0, 0.0, 0.0, 1.0, 0.0, 0.0, 0.0, 0.0, 0.0, 1.0, 0.0, 1.0, 0.0, 0.0, 0.0, 0.0, 0.0, 0.0, 0.0, 1.0, 0.0, 0.0, 0.0, 0.0, 0.0, 0.0, 0.0, 0.0, 1.0, 1.0, 0.0, 0.0, 1.0, 1.0, 0.0, 1.0, 1.0, 0.0, 1.0, 1.0, 0.0, 1.0, 0.0, 0.0, 0.0, 0.0, 0.0, 0.0, 0.0, 0.0, 0.0, 0.0, 0.0, 0.0, 1.0, 0.0, 1.0, 0.0, 1.0, 0.0, 0.0, 0.0, 0.0, 0.0, 1.0, 0.0, 0.0, 0.0, 0.0, 0.0, 0.0, 1.0, 0.0, 0.0, 0.0, 1.0, 0.0, 0.0, 0.0, 0.0, 1.0, 0.0, 0.0, 0.0, 0.0, 0.0, 0.0, 0.0, 0.0, 0.0, 0.0, 0.0, 0.0, 0.0, 0.0, 0.0, 0.0, 1.0, 0.0, 0.0, 0.0, 0.0, 1.0, 0.0, 0.0, 0.0, 1.0, 0.0, 0.0, 0.0, 1.0, 0.0, 0.0, 0.0, 0.0, 1.0, 0.0, 1.0, 0.0, 0.0, 1.0, 0.0, 0.0, 0.0, 0.0, 0.0, 1.0, 0.0, 1.0, 1.0, 1.0, 0.0, 0.0, 1.0, 1.0, 0.0, 0.0, 1.0, 0.0, 1.0, 0.0, 0.0, 0.0, 0.0, 1.0, 1.0, 0.0, 0.0, 0.0, 1.0, 0.0, 0.0, 0.0, 0.0, 1.0, 1.0, 0.0, 0.0, 1.0, 0.0, 0.0, 0.0, 0.0, 0.0, 0.0, 0.0, 0.0, 0.0, 0.0, 0.0, 0.0, 1.0, 0.0, 0.0, 1.0, 0.0, 1.0, 0.0, 1.0, 1.0, 0.0, 0.0, 0.0, 0.0, 0.0, 1.0, 0.0, 0.0, 0.0, 0.0, 0.0, 0.0, 1.0, 0.0]\n"
     ]
    }
   ],
   "source": [
    "test_set.reset()\n",
    "pred = classifier.predict(test_set, verbose = 1)\n",
    "pred[pred>0.5] = 1\n",
    "pred[pred<=0.5] = 0\n",
    "print(\"Prediction\")\n",
    "test_labels = []\n",
    "for i in range(0, 203):\n",
    "    test_labels.extend(np.array(test_set[i][1]))\n",
    "print('test_labels')\n",
    "print(test_labels)"
   ]
  },
  {
   "cell_type": "code",
   "execution_count": 76,
   "metadata": {},
   "outputs": [],
   "source": [
    "dosyaisimleri = test_set.filenames\n",
    "sonuc = pd.DataFrame()\n",
    "sonuc['dosyaisimleri']= dosyaisimleri\n",
    "sonuc['tahminler'] = pred\n",
    "sonuc['test'] = test_labels   "
   ]
  },
  {
   "cell_type": "code",
   "execution_count": 77,
   "metadata": {},
   "outputs": [
    {
     "name": "stdout",
     "output_type": "stream",
     "text": [
      "[[120  31]\n",
      " [ 40  12]]\n"
     ]
    }
   ],
   "source": [
    "from sklearn.metrics import confusion_matrix\n",
    "cm = confusion_matrix(test_labels, pred)\n",
    "print (cm)"
   ]
  },
  {
   "cell_type": "code",
   "execution_count": 79,
   "metadata": {},
   "outputs": [
    {
     "name": "stdout",
     "output_type": "stream",
     "text": [
      "Accuracy: 0.6502463054187192\n"
     ]
    }
   ],
   "source": [
    "acc = (cm[0,0]+cm[1,1])/203\n",
    "print(f\"Accuracy: {acc}\")"
   ]
  },
  {
   "cell_type": "code",
   "execution_count": null,
   "metadata": {},
   "outputs": [],
   "source": []
  }
 ],
 "metadata": {
  "kernelspec": {
   "display_name": "Python 3.10.8 ('makineogrenmesi': venv)",
   "language": "python",
   "name": "python3"
  },
  "language_info": {
   "codemirror_mode": {
    "name": "ipython",
    "version": 3
   },
   "file_extension": ".py",
   "mimetype": "text/x-python",
   "name": "python",
   "nbconvert_exporter": "python",
   "pygments_lexer": "ipython3",
   "version": "3.10.8"
  },
  "orig_nbformat": 4,
  "vscode": {
   "interpreter": {
    "hash": "6fda16959d12d8a7109ac49ed4ad64a9e298d24fd56b9d309644fded5581aa6b"
   }
  }
 },
 "nbformat": 4,
 "nbformat_minor": 2
}
