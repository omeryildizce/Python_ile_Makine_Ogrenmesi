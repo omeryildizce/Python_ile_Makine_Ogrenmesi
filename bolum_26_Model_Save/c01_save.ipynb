{
 "cells": [
  {
   "cell_type": "code",
   "execution_count": 1,
   "metadata": {},
   "outputs": [],
   "source": [
    "import pandas as pd"
   ]
  },
  {
   "cell_type": "code",
   "execution_count": 3,
   "metadata": {},
   "outputs": [],
   "source": [
    "veriler = pd.read_csv(\"../veri/satislar.csv\")\n",
    "X = veriler.iloc[:,0:1].values\n",
    "y = veriler.iloc[:,1]"
   ]
  },
  {
   "cell_type": "code",
   "execution_count": 4,
   "metadata": {},
   "outputs": [],
   "source": [
    "from sklearn.model_selection import train_test_split\n",
    "bolme = 0.333\n",
    "x_train, x_test, y_train, y_test = train_test_split(X,y, test_size=bolme, random_state=0)"
   ]
  },
  {
   "cell_type": "code",
   "execution_count": 6,
   "metadata": {},
   "outputs": [
    {
     "name": "stdout",
     "output_type": "stream",
     "text": [
      "[20126.21865404 57740.29412655 30771.7117123  30062.01217508\n",
      " 54191.79644047 50643.29875438 54191.79644047 30062.01217508\n",
      " 36449.30801003 47094.80106829]\n"
     ]
    }
   ],
   "source": [
    "from sklearn.linear_model import LinearRegression\n",
    "lr = LinearRegression()\n",
    "lr.fit(x_train, y_train)\n",
    "y_pred = lr.predict(x_test)\n",
    "print(y_pred)"
   ]
  },
  {
   "cell_type": "code",
   "execution_count": 10,
   "metadata": {},
   "outputs": [],
   "source": [
    "import pickle\n",
    "dosya = \"model.save\"\n",
    "pickle.dump(lr, open(dosya,\"wb\"))"
   ]
  },
  {
   "cell_type": "code",
   "execution_count": 11,
   "metadata": {},
   "outputs": [
    {
     "data": {
      "text/plain": [
       "array([20126.21865404, 57740.29412655, 30771.7117123 , 30062.01217508,\n",
       "       54191.79644047, 50643.29875438, 54191.79644047, 30062.01217508,\n",
       "       36449.30801003, 47094.80106829])"
      ]
     },
     "execution_count": 11,
     "metadata": {},
     "output_type": "execute_result"
    }
   ],
   "source": [
    "yuklenen = pickle.load(open(dosya,\"rb\"))\n",
    "yuklenen.predict(x_test)"
   ]
  },
  {
   "cell_type": "code",
   "execution_count": null,
   "metadata": {},
   "outputs": [],
   "source": []
  }
 ],
 "metadata": {
  "kernelspec": {
   "display_name": "Python 3.10.8 ('makineogrenmesi': venv)",
   "language": "python",
   "name": "python3"
  },
  "language_info": {
   "codemirror_mode": {
    "name": "ipython",
    "version": 3
   },
   "file_extension": ".py",
   "mimetype": "text/x-python",
   "name": "python",
   "nbconvert_exporter": "python",
   "pygments_lexer": "ipython3",
   "version": "3.10.8"
  },
  "orig_nbformat": 4,
  "vscode": {
   "interpreter": {
    "hash": "6fda16959d12d8a7109ac49ed4ad64a9e298d24fd56b9d309644fded5581aa6b"
   }
  }
 },
 "nbformat": 4,
 "nbformat_minor": 2
}
