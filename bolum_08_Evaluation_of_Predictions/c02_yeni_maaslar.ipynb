{
 "cells": [
  {
   "cell_type": "markdown",
   "metadata": {},
   "source": [
    "Kütüphaneler"
   ]
  },
  {
   "cell_type": "code",
   "execution_count": 12,
   "metadata": {},
   "outputs": [],
   "source": [
    "import numpy as np\n",
    "import matplotlib.pyplot as plt\n",
    "import pandas as pd\n",
    "from sklearn.metrics import r2_score\n",
    "import statsmodels.api as sm "
   ]
  },
  {
   "cell_type": "markdown",
   "metadata": {},
   "source": [
    "Veri yükleme"
   ]
  },
  {
   "cell_type": "code",
   "execution_count": 13,
   "metadata": {},
   "outputs": [],
   "source": [
    "veriler = pd.read_csv(\"../veri/maaslar_yeni.csv\")\n",
    "x = veriler.iloc[:, 2:5]\n",
    "y = veriler.iloc[:,5:]\n",
    "X = x \n",
    "Y = y"
   ]
  },
  {
   "cell_type": "markdown",
   "metadata": {},
   "source": [
    "Linear Regression"
   ]
  },
  {
   "cell_type": "code",
   "execution_count": 14,
   "metadata": {},
   "outputs": [
    {
     "name": "stdout",
     "output_type": "stream",
     "text": [
      "                                 OLS Regression Results                                \n",
      "=======================================================================================\n",
      "Dep. Variable:                      y   R-squared (uncentered):                   0.903\n",
      "Model:                            OLS   Adj. R-squared (uncentered):              0.892\n",
      "Method:                 Least Squares   F-statistic:                              83.89\n",
      "Date:                Wed, 31 Aug 2022   Prob (F-statistic):                    8.38e-14\n",
      "Time:                        15:14:29   Log-Likelihood:                         -295.74\n",
      "No. Observations:                  30   AIC:                                      597.5\n",
      "Df Residuals:                      27   BIC:                                      601.7\n",
      "Df Model:                           3                                                  \n",
      "Covariance Type:            nonrobust                                                  \n",
      "=================================================================================\n",
      "                    coef    std err          t      P>|t|      [0.025      0.975]\n",
      "---------------------------------------------------------------------------------\n",
      "UnvanSeviyesi  2494.8107    256.145      9.740      0.000    1969.244    3020.377\n",
      "Kidem             1.3531    318.990      0.004      0.997    -653.161     655.867\n",
      "Puan            -26.5687     33.657     -0.789      0.437     -95.626      42.489\n",
      "==============================================================================\n",
      "Omnibus:                        0.440   Durbin-Watson:                   1.617\n",
      "Prob(Omnibus):                  0.803   Jarque-Bera (JB):                0.573\n",
      "Skew:                           0.109   Prob(JB):                        0.751\n",
      "Kurtosis:                       2.359   Cond. No.                         23.7\n",
      "==============================================================================\n",
      "\n",
      "Notes:\n",
      "[1] R² is computed without centering (uncentered) since the model does not contain a constant.\n",
      "[2] Standard Errors assume that the covariance matrix of the errors is correctly specified.\n"
     ]
    }
   ],
   "source": [
    "from sklearn.linear_model import LinearRegression\n",
    "lin_reg = LinearRegression()\n",
    "lin_reg.fit(x, y)\n",
    "\n",
    "\n",
    "model = sm.OLS(lin_reg.predict(x),x)\n",
    "print(model.fit().summary())"
   ]
  },
  {
   "cell_type": "markdown",
   "metadata": {},
   "source": [
    "Polynomial regression\n"
   ]
  },
  {
   "cell_type": "code",
   "execution_count": 17,
   "metadata": {},
   "outputs": [
    {
     "name": "stdout",
     "output_type": "stream",
     "text": [
      "[[1.0000000e+00 1.0000000e+00 5.0000000e+00 ... 1.2250000e+05\n",
      "  1.7150000e+06 2.4010000e+07]\n",
      " [1.0000000e+00 2.0000000e+00 5.0000000e+00 ... 1.2250000e+05\n",
      "  1.7150000e+06 2.4010000e+07]\n",
      " [1.0000000e+00 3.0000000e+00 5.0000000e+00 ... 1.2250000e+05\n",
      "  1.7150000e+06 2.4010000e+07]\n",
      " ...\n",
      " [1.0000000e+00 8.0000000e+00 1.0000000e+01 ... 1.4440000e+05\n",
      "  5.4872000e+05 2.0851360e+06]\n",
      " [1.0000000e+00 9.0000000e+00 1.0000000e+00 ... 2.5000000e+03\n",
      "  1.2500000e+05 6.2500000e+06]\n",
      " [1.0000000e+00 1.0000000e+01 9.0000000e+00 ... 5.5800900e+05\n",
      "  5.1460830e+06 4.7458321e+07]]\n"
     ]
    },
    {
     "data": {
      "text/html": [
       "<style>#sk-container-id-1 {color: black;background-color: white;}#sk-container-id-1 pre{padding: 0;}#sk-container-id-1 div.sk-toggleable {background-color: white;}#sk-container-id-1 label.sk-toggleable__label {cursor: pointer;display: block;width: 100%;margin-bottom: 0;padding: 0.3em;box-sizing: border-box;text-align: center;}#sk-container-id-1 label.sk-toggleable__label-arrow:before {content: \"▸\";float: left;margin-right: 0.25em;color: #696969;}#sk-container-id-1 label.sk-toggleable__label-arrow:hover:before {color: black;}#sk-container-id-1 div.sk-estimator:hover label.sk-toggleable__label-arrow:before {color: black;}#sk-container-id-1 div.sk-toggleable__content {max-height: 0;max-width: 0;overflow: hidden;text-align: left;background-color: #f0f8ff;}#sk-container-id-1 div.sk-toggleable__content pre {margin: 0.2em;color: black;border-radius: 0.25em;background-color: #f0f8ff;}#sk-container-id-1 input.sk-toggleable__control:checked~div.sk-toggleable__content {max-height: 200px;max-width: 100%;overflow: auto;}#sk-container-id-1 input.sk-toggleable__control:checked~label.sk-toggleable__label-arrow:before {content: \"▾\";}#sk-container-id-1 div.sk-estimator input.sk-toggleable__control:checked~label.sk-toggleable__label {background-color: #d4ebff;}#sk-container-id-1 div.sk-label input.sk-toggleable__control:checked~label.sk-toggleable__label {background-color: #d4ebff;}#sk-container-id-1 input.sk-hidden--visually {border: 0;clip: rect(1px 1px 1px 1px);clip: rect(1px, 1px, 1px, 1px);height: 1px;margin: -1px;overflow: hidden;padding: 0;position: absolute;width: 1px;}#sk-container-id-1 div.sk-estimator {font-family: monospace;background-color: #f0f8ff;border: 1px dotted black;border-radius: 0.25em;box-sizing: border-box;margin-bottom: 0.5em;}#sk-container-id-1 div.sk-estimator:hover {background-color: #d4ebff;}#sk-container-id-1 div.sk-parallel-item::after {content: \"\";width: 100%;border-bottom: 1px solid gray;flex-grow: 1;}#sk-container-id-1 div.sk-label:hover label.sk-toggleable__label {background-color: #d4ebff;}#sk-container-id-1 div.sk-serial::before {content: \"\";position: absolute;border-left: 1px solid gray;box-sizing: border-box;top: 0;bottom: 0;left: 50%;z-index: 0;}#sk-container-id-1 div.sk-serial {display: flex;flex-direction: column;align-items: center;background-color: white;padding-right: 0.2em;padding-left: 0.2em;position: relative;}#sk-container-id-1 div.sk-item {position: relative;z-index: 1;}#sk-container-id-1 div.sk-parallel {display: flex;align-items: stretch;justify-content: center;background-color: white;position: relative;}#sk-container-id-1 div.sk-item::before, #sk-container-id-1 div.sk-parallel-item::before {content: \"\";position: absolute;border-left: 1px solid gray;box-sizing: border-box;top: 0;bottom: 0;left: 50%;z-index: -1;}#sk-container-id-1 div.sk-parallel-item {display: flex;flex-direction: column;z-index: 1;position: relative;background-color: white;}#sk-container-id-1 div.sk-parallel-item:first-child::after {align-self: flex-end;width: 50%;}#sk-container-id-1 div.sk-parallel-item:last-child::after {align-self: flex-start;width: 50%;}#sk-container-id-1 div.sk-parallel-item:only-child::after {width: 0;}#sk-container-id-1 div.sk-dashed-wrapped {border: 1px dashed gray;margin: 0 0.4em 0.5em 0.4em;box-sizing: border-box;padding-bottom: 0.4em;background-color: white;}#sk-container-id-1 div.sk-label label {font-family: monospace;font-weight: bold;display: inline-block;line-height: 1.2em;}#sk-container-id-1 div.sk-label-container {text-align: center;}#sk-container-id-1 div.sk-container {/* jupyter's `normalize.less` sets `[hidden] { display: none; }` but bootstrap.min.css set `[hidden] { display: none !important; }` so we also need the `!important` here to be able to override the default hidden behavior on the sphinx rendered scikit-learn.org. See: https://github.com/scikit-learn/scikit-learn/issues/21755 */display: inline-block !important;position: relative;}#sk-container-id-1 div.sk-text-repr-fallback {display: none;}</style><div id=\"sk-container-id-1\" class=\"sk-top-container\"><div class=\"sk-text-repr-fallback\"><pre>LinearRegression()</pre><b>In a Jupyter environment, please rerun this cell to show the HTML representation or trust the notebook. <br />On GitHub, the HTML representation is unable to render, please try loading this page with nbviewer.org.</b></div><div class=\"sk-container\" hidden><div class=\"sk-item\"><div class=\"sk-estimator sk-toggleable\"><input class=\"sk-toggleable__control sk-hidden--visually\" id=\"sk-estimator-id-1\" type=\"checkbox\" checked><label for=\"sk-estimator-id-1\" class=\"sk-toggleable__label sk-toggleable__label-arrow\">LinearRegression</label><div class=\"sk-toggleable__content\"><pre>LinearRegression()</pre></div></div></div></div></div>"
      ],
      "text/plain": [
       "LinearRegression()"
      ]
     },
     "execution_count": 17,
     "metadata": {},
     "output_type": "execute_result"
    }
   ],
   "source": [
    "from sklearn.preprocessing import PolynomialFeatures\n",
    "poly_reg = PolynomialFeatures(degree = 4)\n",
    "x_poly = poly_reg.fit_transform(X)\n",
    "print(x_poly)\n",
    "lin_reg2 = LinearRegression()\n",
    "lin_reg2.fit(x_poly,y)"
   ]
  },
  {
   "cell_type": "code",
   "execution_count": 18,
   "metadata": {},
   "outputs": [
    {
     "name": "stdout",
     "output_type": "stream",
     "text": [
      "poly OLS\n",
      "                                 OLS Regression Results                                \n",
      "=======================================================================================\n",
      "Dep. Variable:                      y   R-squared (uncentered):                   0.680\n",
      "Model:                            OLS   Adj. R-squared (uncentered):              0.644\n",
      "Method:                 Least Squares   F-statistic:                              19.11\n",
      "Date:                Wed, 31 Aug 2022   Prob (F-statistic):                    7.49e-07\n",
      "Time:                        15:15:21   Log-Likelihood:                         -317.93\n",
      "No. Observations:                  30   AIC:                                      641.9\n",
      "Df Residuals:                      27   BIC:                                      646.1\n",
      "Df Model:                           3                                                  \n",
      "Covariance Type:            nonrobust                                                  \n",
      "=================================================================================\n",
      "                    coef    std err          t      P>|t|      [0.025      0.975]\n",
      "---------------------------------------------------------------------------------\n",
      "UnvanSeviyesi  2494.8107    536.645      4.649      0.000    1393.705    3595.916\n",
      "Kidem             1.3531    668.311      0.002      0.998   -1369.907    1372.614\n",
      "Puan            -26.5687     70.513     -0.377      0.709    -171.250     118.113\n",
      "==============================================================================\n",
      "Omnibus:                       39.861   Durbin-Watson:                   1.171\n",
      "Prob(Omnibus):                  0.000   Jarque-Bera (JB):              121.882\n",
      "Skew:                           2.862   Prob(JB):                     3.42e-27\n",
      "Kurtosis:                      11.046   Cond. No.                         23.7\n",
      "==============================================================================\n",
      "\n",
      "Notes:\n",
      "[1] R² is computed without centering (uncentered) since the model does not contain a constant.\n",
      "[2] Standard Errors assume that the covariance matrix of the errors is correctly specified.\n",
      "Polynomial R2 degeri\n",
      "0.9990003560225867\n"
     ]
    }
   ],
   "source": [
    "#tahminler\n",
    "\n",
    "\n",
    "print('poly OLS')\n",
    "model2=sm.OLS(lin_reg2.predict(poly_reg.fit_transform(X)),X)\n",
    "print(model2.fit().summary())\n",
    "\n",
    "print('Polynomial R2 degeri')\n",
    "print(r2_score(Y, lin_reg2.predict(poly_reg.fit_transform(X))))"
   ]
  },
  {
   "cell_type": "code",
   "execution_count": 20,
   "metadata": {},
   "outputs": [],
   "source": [
    "#verilerin olceklenmesi\n",
    "from sklearn.preprocessing import StandardScaler\n",
    "\n",
    "sc1=StandardScaler()\n",
    "x_olcekli = sc1.fit_transform(X)\n",
    "sc2=StandardScaler()\n",
    "y_olcekli = sc2.fit_transform(Y)\n"
   ]
  },
  {
   "cell_type": "code",
   "execution_count": 21,
   "metadata": {},
   "outputs": [
    {
     "name": "stdout",
     "output_type": "stream",
     "text": [
      "SVR OLS\n",
      "                                 OLS Regression Results                                \n",
      "=======================================================================================\n",
      "Dep. Variable:                      y   R-squared (uncentered):                   0.782\n",
      "Model:                            OLS   Adj. R-squared (uncentered):              0.758\n",
      "Method:                 Least Squares   F-statistic:                              32.37\n",
      "Date:                Wed, 31 Aug 2022   Prob (F-statistic):                    4.34e-09\n",
      "Time:                        15:16:50   Log-Likelihood:                        -0.92453\n",
      "No. Observations:                  30   AIC:                                      7.849\n",
      "Df Residuals:                      27   BIC:                                      12.05\n",
      "Df Model:                           3                                                  \n",
      "Covariance Type:            nonrobust                                                  \n",
      "==============================================================================\n",
      "                 coef    std err          t      P>|t|      [0.025      0.975]\n",
      "------------------------------------------------------------------------------\n",
      "x1             0.4715      0.049      9.709      0.000       0.372       0.571\n",
      "x2             0.0674      0.051      1.314      0.200      -0.038       0.173\n",
      "x3             0.0427      0.051      0.839      0.409      -0.062       0.147\n",
      "==============================================================================\n",
      "Omnibus:                        3.662   Durbin-Watson:                   0.494\n",
      "Prob(Omnibus):                  0.160   Jarque-Bera (JB):                2.279\n",
      "Skew:                           0.464   Prob(JB):                        0.320\n",
      "Kurtosis:                       2.019   Cond. No.                         1.44\n",
      "==============================================================================\n",
      "\n",
      "Notes:\n",
      "[1] R² is computed without centering (uncentered) since the model does not contain a constant.\n",
      "[2] Standard Errors assume that the covariance matrix of the errors is correctly specified.\n",
      "SVR R2 degeri\n",
      "0.6287203839391853\n"
     ]
    },
    {
     "name": "stderr",
     "output_type": "stream",
     "text": [
      "c:\\Users\\OmerYildiz\\anaconda3\\envs\\makineogrenmesi\\lib\\site-packages\\sklearn\\utils\\validation.py:1111: DataConversionWarning: A column-vector y was passed when a 1d array was expected. Please change the shape of y to (n_samples, ), for example using ravel().\n",
      "  y = column_or_1d(y, warn=True)\n"
     ]
    }
   ],
   "source": [
    "from sklearn.svm import SVR\n",
    "\n",
    "svr_reg = SVR(kernel='rbf')\n",
    "svr_reg.fit(x_olcekli,y_olcekli)\n",
    "\n",
    "\n",
    "print('SVR OLS')\n",
    "model3=sm.OLS(svr_reg.predict(x_olcekli),x_olcekli)\n",
    "print(model3.fit().summary())\n",
    "\n",
    "\n",
    "print('SVR R2 degeri')\n",
    "print(r2_score(y_olcekli, svr_reg.predict(x_olcekli)))"
   ]
  },
  {
   "cell_type": "code",
   "execution_count": 22,
   "metadata": {},
   "outputs": [
    {
     "name": "stdout",
     "output_type": "stream",
     "text": [
      "Decision Tree OLS\n",
      "                                 OLS Regression Results                                \n",
      "=======================================================================================\n",
      "Dep. Variable:                      y   R-squared (uncentered):                   0.679\n",
      "Model:                            OLS   Adj. R-squared (uncentered):              0.644\n",
      "Method:                 Least Squares   F-statistic:                              19.08\n",
      "Date:                Wed, 31 Aug 2022   Prob (F-statistic):                    7.62e-07\n",
      "Time:                        15:17:19   Log-Likelihood:                         -317.95\n",
      "No. Observations:                  30   AIC:                                      641.9\n",
      "Df Residuals:                      27   BIC:                                      646.1\n",
      "Df Model:                           3                                                  \n",
      "Covariance Type:            nonrobust                                                  \n",
      "=================================================================================\n",
      "                    coef    std err          t      P>|t|      [0.025      0.975]\n",
      "---------------------------------------------------------------------------------\n",
      "UnvanSeviyesi  2494.8107    537.146      4.645      0.000    1392.677    3596.944\n",
      "Kidem             1.3531    668.935      0.002      0.998   -1371.187    1373.894\n",
      "Puan            -26.5687     70.579     -0.376      0.710    -171.385     118.248\n",
      "==============================================================================\n",
      "Omnibus:                       40.370   Durbin-Watson:                   1.194\n",
      "Prob(Omnibus):                  0.000   Jarque-Bera (JB):              125.722\n",
      "Skew:                           2.897   Prob(JB):                     5.01e-28\n",
      "Kurtosis:                      11.186   Cond. No.                         23.7\n",
      "==============================================================================\n",
      "\n",
      "Notes:\n",
      "[1] R² is computed without centering (uncentered) since the model does not contain a constant.\n",
      "[2] Standard Errors assume that the covariance matrix of the errors is correctly specified.\n",
      "Decision Tree R2 degeri\n",
      "1.0\n"
     ]
    }
   ],
   "source": [
    "\n",
    "#Decision Tree Regresyon\n",
    "from sklearn.tree import DecisionTreeRegressor\n",
    "r_dt = DecisionTreeRegressor(random_state=0)\n",
    "r_dt.fit(X,Y)\n",
    "\n",
    "\n",
    "print('Decision Tree OLS')\n",
    "model4=sm.OLS(r_dt.predict(X),X)\n",
    "print(model4.fit().summary())\n",
    "\n",
    "print('Decision Tree R2 degeri')\n",
    "print(r2_score(Y, r_dt.predict(X)))\n"
   ]
  },
  {
   "cell_type": "code",
   "execution_count": 24,
   "metadata": {},
   "outputs": [
    {
     "name": "stdout",
     "output_type": "stream",
     "text": [
      "Random Forest OLS\n",
      "                                 OLS Regression Results                                \n",
      "=======================================================================================\n",
      "Dep. Variable:                      y   R-squared (uncentered):                   0.713\n",
      "Model:                            OLS   Adj. R-squared (uncentered):              0.681\n",
      "Method:                 Least Squares   F-statistic:                              22.31\n",
      "Date:                Wed, 31 Aug 2022   Prob (F-statistic):                    1.79e-07\n",
      "Time:                        15:18:38   Log-Likelihood:                         -316.07\n",
      "No. Observations:                  30   AIC:                                      638.1\n",
      "Df Residuals:                      27   BIC:                                      642.3\n",
      "Df Model:                           3                                                  \n",
      "Covariance Type:            nonrobust                                                  \n",
      "=================================================================================\n",
      "                    coef    std err          t      P>|t|      [0.025      0.975]\n",
      "---------------------------------------------------------------------------------\n",
      "UnvanSeviyesi  2671.9265    504.444      5.297      0.000    1636.892    3706.961\n",
      "Kidem             1.0522    628.209      0.002      0.999   -1287.927    1290.031\n",
      "Puan            -44.2927     66.282     -0.668      0.510    -180.293      91.707\n",
      "==============================================================================\n",
      "Omnibus:                       32.588   Durbin-Watson:                   1.349\n",
      "Prob(Omnibus):                  0.000   Jarque-Bera (JB):               73.156\n",
      "Skew:                           2.425   Prob(JB):                     1.30e-16\n",
      "Kurtosis:                       8.916   Cond. No.                         23.7\n",
      "==============================================================================\n",
      "\n",
      "Notes:\n",
      "[1] R² is computed without centering (uncentered) since the model does not contain a constant.\n",
      "[2] Standard Errors assume that the covariance matrix of the errors is correctly specified.\n",
      "Random Forest R2 degeri\n",
      "0.9475498704400864\n"
     ]
    },
    {
     "name": "stderr",
     "output_type": "stream",
     "text": [
      "C:\\Users\\OmerYildiz\\AppData\\Local\\Temp\\ipykernel_10664\\318443810.py:4: DataConversionWarning: A column-vector y was passed when a 1d array was expected. Please change the shape of y to (n_samples,), for example using ravel().\n",
      "  rf_reg.fit(X,Y)\n"
     ]
    }
   ],
   "source": [
    "#Random Forest Regresyonu\n",
    "from sklearn.ensemble import RandomForestRegressor\n",
    "rf_reg=RandomForestRegressor(n_estimators = 10,random_state=0)\n",
    "rf_reg.fit(X,Y)\n",
    "\n",
    "\n",
    "\n",
    "print('Random Forest OLS')\n",
    "model5=sm.OLS(rf_reg.predict(X),X)\n",
    "print(model5.fit().summary())\n",
    "\n",
    "\n",
    "\n",
    "print('Random Forest R2 degeri')\n",
    "print(r2_score(Y, rf_reg.predict(X)))\n"
   ]
  },
  {
   "cell_type": "code",
   "execution_count": 25,
   "metadata": {},
   "outputs": [
    {
     "name": "stdout",
     "output_type": "stream",
     "text": [
      "-----------------------\n",
      "Linear R2 degeri\n",
      "0.5857207050854021\n",
      "Polynomial R2 degeri\n",
      "0.9990003560225867\n",
      "SVR R2 degeri\n",
      "0.6287203839391853\n",
      "Decision Tree R2 degeri\n",
      "1.0\n",
      "Random Forest R2 degeri\n",
      "0.9475498704400864\n"
     ]
    }
   ],
   "source": [
    "#Ozet R2 değerleri\n",
    "print('-----------------------')\n",
    "print('Linear R2 degeri')\n",
    "print(r2_score(Y, lin_reg.predict(X)))\n",
    "\n",
    "print('Polynomial R2 degeri')\n",
    "print(r2_score(Y, lin_reg2.predict(poly_reg.fit_transform(X))))\n",
    "\n",
    "print('SVR R2 degeri')\n",
    "print(r2_score(y_olcekli, svr_reg.predict(x_olcekli)))\n",
    "\n",
    "\n",
    "print('Decision Tree R2 degeri')\n",
    "print(r2_score(Y, r_dt.predict(X)))\n",
    "\n",
    "print('Random Forest R2 degeri')\n",
    "print(r2_score(Y, rf_reg.predict(X)))"
   ]
  },
  {
   "cell_type": "code",
   "execution_count": 26,
   "metadata": {},
   "outputs": [
    {
     "data": {
      "text/html": [
       "<div>\n",
       "<style scoped>\n",
       "    .dataframe tbody tr th:only-of-type {\n",
       "        vertical-align: middle;\n",
       "    }\n",
       "\n",
       "    .dataframe tbody tr th {\n",
       "        vertical-align: top;\n",
       "    }\n",
       "\n",
       "    .dataframe thead th {\n",
       "        text-align: right;\n",
       "    }\n",
       "</style>\n",
       "<table border=\"1\" class=\"dataframe\">\n",
       "  <thead>\n",
       "    <tr style=\"text-align: right;\">\n",
       "      <th></th>\n",
       "      <th>Calisan ID</th>\n",
       "      <th>UnvanSeviyesi</th>\n",
       "      <th>Kidem</th>\n",
       "      <th>Puan</th>\n",
       "      <th>maas</th>\n",
       "    </tr>\n",
       "  </thead>\n",
       "  <tbody>\n",
       "    <tr>\n",
       "      <th>Calisan ID</th>\n",
       "      <td>1.000000</td>\n",
       "      <td>0.331847</td>\n",
       "      <td>0.206278</td>\n",
       "      <td>-0.251278</td>\n",
       "      <td>0.226287</td>\n",
       "    </tr>\n",
       "    <tr>\n",
       "      <th>UnvanSeviyesi</th>\n",
       "      <td>0.331847</td>\n",
       "      <td>1.000000</td>\n",
       "      <td>-0.125200</td>\n",
       "      <td>0.034948</td>\n",
       "      <td>0.727036</td>\n",
       "    </tr>\n",
       "    <tr>\n",
       "      <th>Kidem</th>\n",
       "      <td>0.206278</td>\n",
       "      <td>-0.125200</td>\n",
       "      <td>1.000000</td>\n",
       "      <td>0.322796</td>\n",
       "      <td>0.117964</td>\n",
       "    </tr>\n",
       "    <tr>\n",
       "      <th>Puan</th>\n",
       "      <td>-0.251278</td>\n",
       "      <td>0.034948</td>\n",
       "      <td>0.322796</td>\n",
       "      <td>1.000000</td>\n",
       "      <td>0.201474</td>\n",
       "    </tr>\n",
       "    <tr>\n",
       "      <th>maas</th>\n",
       "      <td>0.226287</td>\n",
       "      <td>0.727036</td>\n",
       "      <td>0.117964</td>\n",
       "      <td>0.201474</td>\n",
       "      <td>1.000000</td>\n",
       "    </tr>\n",
       "  </tbody>\n",
       "</table>\n",
       "</div>"
      ],
      "text/plain": [
       "               Calisan ID  UnvanSeviyesi     Kidem      Puan      maas\n",
       "Calisan ID       1.000000       0.331847  0.206278 -0.251278  0.226287\n",
       "UnvanSeviyesi    0.331847       1.000000 -0.125200  0.034948  0.727036\n",
       "Kidem            0.206278      -0.125200  1.000000  0.322796  0.117964\n",
       "Puan            -0.251278       0.034948  0.322796  1.000000  0.201474\n",
       "maas             0.226287       0.727036  0.117964  0.201474  1.000000"
      ]
     },
     "execution_count": 26,
     "metadata": {},
     "output_type": "execute_result"
    }
   ],
   "source": [
    "veriler.corr()"
   ]
  },
  {
   "cell_type": "code",
   "execution_count": 27,
   "metadata": {},
   "outputs": [
    {
     "data": {
      "text/html": [
       "<div>\n",
       "<style scoped>\n",
       "    .dataframe tbody tr th:only-of-type {\n",
       "        vertical-align: middle;\n",
       "    }\n",
       "\n",
       "    .dataframe tbody tr th {\n",
       "        vertical-align: top;\n",
       "    }\n",
       "\n",
       "    .dataframe thead th {\n",
       "        text-align: right;\n",
       "    }\n",
       "</style>\n",
       "<table border=\"1\" class=\"dataframe\">\n",
       "  <thead>\n",
       "    <tr style=\"text-align: right;\">\n",
       "      <th></th>\n",
       "      <th>Calisan ID</th>\n",
       "      <th>unvan</th>\n",
       "      <th>UnvanSeviyesi</th>\n",
       "      <th>Kidem</th>\n",
       "      <th>Puan</th>\n",
       "      <th>maas</th>\n",
       "    </tr>\n",
       "  </thead>\n",
       "  <tbody>\n",
       "    <tr>\n",
       "      <th>0</th>\n",
       "      <td>1</td>\n",
       "      <td>Cayci</td>\n",
       "      <td>1</td>\n",
       "      <td>5</td>\n",
       "      <td>70</td>\n",
       "      <td>2250</td>\n",
       "    </tr>\n",
       "    <tr>\n",
       "      <th>1</th>\n",
       "      <td>2</td>\n",
       "      <td>Sekreter</td>\n",
       "      <td>2</td>\n",
       "      <td>5</td>\n",
       "      <td>70</td>\n",
       "      <td>2500</td>\n",
       "    </tr>\n",
       "    <tr>\n",
       "      <th>2</th>\n",
       "      <td>3</td>\n",
       "      <td>Uzman Yardimcisi</td>\n",
       "      <td>3</td>\n",
       "      <td>5</td>\n",
       "      <td>70</td>\n",
       "      <td>3000</td>\n",
       "    </tr>\n",
       "    <tr>\n",
       "      <th>3</th>\n",
       "      <td>4</td>\n",
       "      <td>Uzman</td>\n",
       "      <td>4</td>\n",
       "      <td>5</td>\n",
       "      <td>70</td>\n",
       "      <td>4000</td>\n",
       "    </tr>\n",
       "    <tr>\n",
       "      <th>4</th>\n",
       "      <td>5</td>\n",
       "      <td>Proje Yoneticisi</td>\n",
       "      <td>5</td>\n",
       "      <td>5</td>\n",
       "      <td>70</td>\n",
       "      <td>5500</td>\n",
       "    </tr>\n",
       "  </tbody>\n",
       "</table>\n",
       "</div>"
      ],
      "text/plain": [
       "   Calisan ID             unvan  UnvanSeviyesi  Kidem  Puan  maas\n",
       "0           1             Cayci              1      5    70  2250\n",
       "1           2          Sekreter              2      5    70  2500\n",
       "2           3  Uzman Yardimcisi              3      5    70  3000\n",
       "3           4             Uzman              4      5    70  4000\n",
       "4           5  Proje Yoneticisi              5      5    70  5500"
      ]
     },
     "execution_count": 27,
     "metadata": {},
     "output_type": "execute_result"
    }
   ],
   "source": [
    "veriler.head()"
   ]
  },
  {
   "cell_type": "code",
   "execution_count": null,
   "metadata": {},
   "outputs": [],
   "source": []
  }
 ],
 "metadata": {
  "kernelspec": {
   "display_name": "Python 3.9.12 ('makineogrenmesi')",
   "language": "python",
   "name": "python3"
  },
  "language_info": {
   "codemirror_mode": {
    "name": "ipython",
    "version": 3
   },
   "file_extension": ".py",
   "mimetype": "text/x-python",
   "name": "python",
   "nbconvert_exporter": "python",
   "pygments_lexer": "ipython3",
   "version": "3.9.12"
  },
  "orig_nbformat": 4,
  "vscode": {
   "interpreter": {
    "hash": "f3d545b89b9a3c9ddf5badb256858a9138f5d105a299874fc3cf75d71084a77c"
   }
  }
 },
 "nbformat": 4,
 "nbformat_minor": 2
}
