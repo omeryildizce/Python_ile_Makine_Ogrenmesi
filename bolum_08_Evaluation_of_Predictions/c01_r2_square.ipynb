{
 "cells": [
  {
   "cell_type": "markdown",
   "metadata": {},
   "source": [
    "# Kütüphaneler"
   ]
  },
  {
   "cell_type": "code",
   "execution_count": 1,
   "metadata": {},
   "outputs": [],
   "source": [
    "import numpy as np\n",
    "import matplotlib.pyplot as plt\n",
    "import pandas as pd\n",
    "from sklearn.metrics import r2_score"
   ]
  },
  {
   "cell_type": "markdown",
   "metadata": {},
   "source": [
    "# veri yukleme"
   ]
  },
  {
   "cell_type": "code",
   "execution_count": 5,
   "metadata": {},
   "outputs": [],
   "source": [
    "veriler = pd.read_csv('../veri/maaslar.csv')\n",
    "\n",
    "x = veriler.iloc[:,1:2]\n",
    "y = veriler.iloc[:,2:]\n",
    "X = x\n",
    "Y = y"
   ]
  },
  {
   "cell_type": "markdown",
   "metadata": {},
   "source": [
    "# linear regression\n"
   ]
  },
  {
   "cell_type": "code",
   "execution_count": 6,
   "metadata": {},
   "outputs": [
    {
     "data": {
      "image/png": "[encoded data removed]",
      "text/plain": [
       "<Figure size 432x288 with 1 Axes>"
      ]
     },
     "metadata": {
      "needs_background": "light"
     },
     "output_type": "display_data"
    },
    {
     "name": "stdout",
     "output_type": "stream",
     "text": [
      "Linear R2 degeri\n",
      "0.6690412331929894\n"
     ]
    }
   ],
   "source": [
    "from sklearn.linear_model import LinearRegression\n",
    "lin_reg = LinearRegression()\n",
    "lin_reg.fit(X,Y)\n",
    "\n",
    "plt.scatter(X,Y,color='red')\n",
    "plt.plot(x,lin_reg.predict(X), color = 'blue')\n",
    "plt.show()\n",
    "\n",
    "print('Linear R2 degeri')\n",
    "print(r2_score(Y, lin_reg.predict(X)))"
   ]
  },
  {
   "cell_type": "markdown",
   "metadata": {},
   "source": [
    "# polynomial regression\n"
   ]
  },
  {
   "cell_type": "code",
   "execution_count": 7,
   "metadata": {},
   "outputs": [
    {
     "name": "stdout",
     "output_type": "stream",
     "text": [
      "[[  1.   1.   1.]\n",
      " [  1.   2.   4.]\n",
      " [  1.   3.   9.]\n",
      " [  1.   4.  16.]\n",
      " [  1.   5.  25.]\n",
      " [  1.   6.  36.]\n",
      " [  1.   7.  49.]\n",
      " [  1.   8.  64.]\n",
      " [  1.   9.  81.]\n",
      " [  1.  10. 100.]]\n"
     ]
    },
    {
     "data": {
      "image/png": "[encoded data removed]",
      "text/plain": [
       "<Figure size 432x288 with 1 Axes>"
      ]
     },
     "metadata": {
      "needs_background": "light"
     },
     "output_type": "display_data"
    }
   ],
   "source": [
    "from sklearn.preprocessing import PolynomialFeatures\n",
    "poly_reg = PolynomialFeatures(degree = 2)\n",
    "x_poly = poly_reg.fit_transform(X)\n",
    "print(x_poly)\n",
    "lin_reg2 = LinearRegression()\n",
    "lin_reg2.fit(x_poly,y)\n",
    "plt.scatter(X,Y,color = 'red')\n",
    "plt.plot(X,lin_reg2.predict(poly_reg.fit_transform(X)), color = 'blue')\n",
    "plt.show()"
   ]
  },
  {
   "cell_type": "code",
   "execution_count": 8,
   "metadata": {},
   "outputs": [
    {
     "name": "stdout",
     "output_type": "stream",
     "text": [
      "[[1.000e+00 1.000e+00 1.000e+00 1.000e+00 1.000e+00]\n",
      " [1.000e+00 2.000e+00 4.000e+00 8.000e+00 1.600e+01]\n",
      " [1.000e+00 3.000e+00 9.000e+00 2.700e+01 8.100e+01]\n",
      " [1.000e+00 4.000e+00 1.600e+01 6.400e+01 2.560e+02]\n",
      " [1.000e+00 5.000e+00 2.500e+01 1.250e+02 6.250e+02]\n",
      " [1.000e+00 6.000e+00 3.600e+01 2.160e+02 1.296e+03]\n",
      " [1.000e+00 7.000e+00 4.900e+01 3.430e+02 2.401e+03]\n",
      " [1.000e+00 8.000e+00 6.400e+01 5.120e+02 4.096e+03]\n",
      " [1.000e+00 9.000e+00 8.100e+01 7.290e+02 6.561e+03]\n",
      " [1.000e+00 1.000e+01 1.000e+02 1.000e+03 1.000e+04]]\n"
     ]
    },
    {
     "data": {
      "image/png": "[encoded data removed]",
      "text/plain": [
       "<Figure size 432x288 with 1 Axes>"
      ]
     },
     "metadata": {
      "needs_background": "light"
     },
     "output_type": "display_data"
    }
   ],
   "source": [
    "from sklearn.preprocessing import PolynomialFeatures\n",
    "poly_reg = PolynomialFeatures(degree = 4)\n",
    "x_poly = poly_reg.fit_transform(X)\n",
    "print(x_poly)\n",
    "lin_reg2 = LinearRegression()\n",
    "lin_reg2.fit(x_poly,y)\n",
    "plt.scatter(X,Y,color = 'red')\n",
    "plt.plot(X,lin_reg2.predict(poly_reg.fit_transform(X)), color = 'blue')\n",
    "plt.show()\n"
   ]
  },
  {
   "cell_type": "markdown",
   "metadata": {},
   "source": [
    "# tahminler"
   ]
  },
  {
   "cell_type": "code",
   "execution_count": 9,
   "metadata": {},
   "outputs": [
    {
     "name": "stdout",
     "output_type": "stream",
     "text": [
      "[[34716.66666667]]\n",
      "[[16923.33333333]]\n",
      "[[8146.9948718]]\n",
      "[[89041.66666669]]\n",
      "Polynomial R2 degeri\n",
      "0.9973922891706614\n"
     ]
    },
    {
     "name": "stderr",
     "output_type": "stream",
     "text": [
      "c:\\Users\\OmerYildiz\\anaconda3\\envs\\makineogrenmesi\\lib\\site-packages\\sklearn\\base.py:450: UserWarning: X does not have valid feature names, but LinearRegression was fitted with feature names\n",
      "  warnings.warn(\n",
      "c:\\Users\\OmerYildiz\\anaconda3\\envs\\makineogrenmesi\\lib\\site-packages\\sklearn\\base.py:450: UserWarning: X does not have valid feature names, but LinearRegression was fitted with feature names\n",
      "  warnings.warn(\n"
     ]
    }
   ],
   "source": [
    "print(lin_reg.predict([[11]]))\n",
    "print(lin_reg.predict([[6.6]]))\n",
    "\n",
    "print(lin_reg2.predict(poly_reg.fit_transform([[6.6]])))\n",
    "print(lin_reg2.predict(poly_reg.fit_transform([[11]])))\n",
    "\n",
    "print('Polynomial R2 degeri')\n",
    "print(r2_score(Y, lin_reg2.predict(poly_reg.fit_transform(X))))\n"
   ]
  },
  {
   "cell_type": "markdown",
   "metadata": {},
   "source": [
    "# verilerin olceklenmesi\n"
   ]
  },
  {
   "cell_type": "code",
   "execution_count": 11,
   "metadata": {},
   "outputs": [],
   "source": [
    "from sklearn.preprocessing import StandardScaler\n",
    "\n",
    "sc1=StandardScaler()\n",
    "\n",
    "x_olcekli = sc1.fit_transform(X)\n",
    "\n",
    "sc2=StandardScaler()\n",
    "y_olcekli = sc2.fit_transform(Y)"
   ]
  },
  {
   "cell_type": "code",
   "execution_count": 13,
   "metadata": {},
   "outputs": [
    {
     "name": "stderr",
     "output_type": "stream",
     "text": [
      "c:\\Users\\OmerYildiz\\anaconda3\\envs\\makineogrenmesi\\lib\\site-packages\\sklearn\\utils\\validation.py:1111: DataConversionWarning: A column-vector y was passed when a 1d array was expected. Please change the shape of y to (n_samples, ), for example using ravel().\n",
      "  y = column_or_1d(y, warn=True)\n"
     ]
    },
    {
     "data": {
      "image/png": "[encoded data removed]",
      "text/plain": [
       "<Figure size 432x288 with 1 Axes>"
      ]
     },
     "metadata": {
      "needs_background": "light"
     },
     "output_type": "display_data"
    },
    {
     "name": "stdout",
     "output_type": "stream",
     "text": [
      "[0.01150915]\n",
      "[0.01150915]\n",
      "SVR R2 degeri\n",
      "0.7513836788854973\n"
     ]
    }
   ],
   "source": [
    "from sklearn.svm import SVR\n",
    "\n",
    "svr_reg = SVR(kernel='rbf')\n",
    "svr_reg.fit(x_olcekli,y_olcekli)\n",
    "\n",
    "plt.scatter(x_olcekli,y_olcekli,color='red')\n",
    "plt.plot(x_olcekli,svr_reg.predict(x_olcekli),color='blue')\n",
    "\n",
    "plt.show()\n",
    "print(svr_reg.predict([[11]]))\n",
    "print(svr_reg.predict([[6.6]]))\n",
    "\n",
    "print('SVR R2 degeri')\n",
    "print(r2_score(y_olcekli, svr_reg.predict(x_olcekli)))"
   ]
  },
  {
   "cell_type": "markdown",
   "metadata": {},
   "source": [
    "# Decision Tree Regresyon"
   ]
  },
  {
   "cell_type": "code",
   "execution_count": 14,
   "metadata": {},
   "outputs": [
    {
     "data": {
      "image/png": "[encoded data removed]",
      "text/plain": [
       "<Figure size 432x288 with 1 Axes>"
      ]
     },
     "metadata": {
      "needs_background": "light"
     },
     "output_type": "display_data"
    },
    {
     "name": "stdout",
     "output_type": "stream",
     "text": [
      "[50000.]\n",
      "[10000.]\n",
      "Decision Tree R2 degeri\n",
      "1.0\n"
     ]
    },
    {
     "name": "stderr",
     "output_type": "stream",
     "text": [
      "c:\\Users\\OmerYildiz\\anaconda3\\envs\\makineogrenmesi\\lib\\site-packages\\sklearn\\base.py:450: UserWarning: X does not have valid feature names, but DecisionTreeRegressor was fitted with feature names\n",
      "  warnings.warn(\n",
      "c:\\Users\\OmerYildiz\\anaconda3\\envs\\makineogrenmesi\\lib\\site-packages\\sklearn\\base.py:450: UserWarning: X does not have valid feature names, but DecisionTreeRegressor was fitted with feature names\n",
      "  warnings.warn(\n"
     ]
    }
   ],
   "source": [
    "from sklearn.tree import DecisionTreeRegressor\n",
    "r_dt = DecisionTreeRegressor(random_state=0)\n",
    "r_dt.fit(X,Y)\n",
    "Z = X + 0.5\n",
    "K = X - 0.4\n",
    "\n",
    "plt.scatter(X,Y, color='red')\n",
    "plt.plot(x,r_dt.predict(X), color='blue')\n",
    "plt.plot(x,r_dt.predict(Z),color='green')\n",
    "plt.plot(x,r_dt.predict(K),color='yellow')\n",
    "plt.show()\n",
    "print(r_dt.predict([[11]]))\n",
    "print(r_dt.predict([[6.6]]))\n",
    "\n",
    "print('Decision Tree R2 degeri')\n",
    "print(r2_score(Y, r_dt.predict(X)))"
   ]
  },
  {
   "cell_type": "markdown",
   "metadata": {},
   "source": [
    "# Random Forest Regresyonu\n"
   ]
  },
  {
   "cell_type": "code",
   "execution_count": 16,
   "metadata": {},
   "outputs": [
    {
     "name": "stdout",
     "output_type": "stream",
     "text": [
      "[10500.]\n"
     ]
    },
    {
     "name": "stderr",
     "output_type": "stream",
     "text": [
      "C:\\Users\\OmerYildiz\\AppData\\Local\\Temp\\ipykernel_18564\\2207993255.py:3: DataConversionWarning: A column-vector y was passed when a 1d array was expected. Please change the shape of y to (n_samples,), for example using ravel().\n",
      "  rf_reg.fit(X,Y)\n",
      "c:\\Users\\OmerYildiz\\anaconda3\\envs\\makineogrenmesi\\lib\\site-packages\\sklearn\\base.py:450: UserWarning: X does not have valid feature names, but RandomForestRegressor was fitted with feature names\n",
      "  warnings.warn(\n"
     ]
    },
    {
     "data": {
      "image/png": "[encoded data removed]",
      "text/plain": [
       "<Figure size 432x288 with 1 Axes>"
      ]
     },
     "metadata": {
      "needs_background": "light"
     },
     "output_type": "display_data"
    },
    {
     "name": "stdout",
     "output_type": "stream",
     "text": [
      "Random Forest R2 degeri\n",
      "0.9704434230386582\n",
      "0.9704434230386582\n",
      "0.8820523231127324\n"
     ]
    }
   ],
   "source": [
    "from sklearn.ensemble import RandomForestRegressor\n",
    "rf_reg=RandomForestRegressor(n_estimators = 10,random_state=0)\n",
    "rf_reg.fit(X,Y)\n",
    "\n",
    "print(rf_reg.predict([[6.6]]))\n",
    "\n",
    "plt.scatter(X,Y,color='red')\n",
    "plt.plot(X,rf_reg.predict(X),color='blue')\n",
    "\n",
    "plt.plot(X,rf_reg.predict(Z),color='green')\n",
    "plt.plot(x,r_dt.predict(K),color='yellow')\n",
    "plt.show()\n",
    "\n",
    "\n",
    "\n",
    "\n",
    "print('Random Forest R2 degeri')\n",
    "print(r2_score(Y, rf_reg.predict(X)))\n",
    "\n",
    "print(r2_score(Y, rf_reg.predict(K)))\n",
    "print(r2_score(Y, rf_reg.predict(Z)))"
   ]
  },
  {
   "cell_type": "code",
   "execution_count": 17,
   "metadata": {},
   "outputs": [
    {
     "name": "stdout",
     "output_type": "stream",
     "text": [
      "-----------------------\n",
      "Linear R2 degeri\n",
      "0.6690412331929894\n",
      "Polynomial R2 degeri\n",
      "0.9973922891706614\n",
      "SVR R2 degeri\n",
      "0.7513836788854973\n",
      "Decision Tree R2 degeri\n",
      "1.0\n",
      "Random Forest R2 degeri\n",
      "0.9704434230386582\n"
     ]
    }
   ],
   "source": [
    "#Ozet R2 değerleri\n",
    "print('-----------------------')\n",
    "print('Linear R2 degeri')\n",
    "print(r2_score(Y, lin_reg.predict(X)))\n",
    "\n",
    "print('Polynomial R2 degeri')\n",
    "print(r2_score(Y, lin_reg2.predict(poly_reg.fit_transform(X))))\n",
    "\n",
    "print('SVR R2 degeri')\n",
    "print(r2_score(y_olcekli, svr_reg.predict(x_olcekli)))\n",
    "\n",
    "\n",
    "print('Decision Tree R2 degeri')\n",
    "print(r2_score(Y, r_dt.predict(X)))\n",
    "\n",
    "print('Random Forest R2 degeri')\n",
    "print(r2_score(Y, rf_reg.predict(X)))"
   ]
  },
  {
   "cell_type": "code",
   "execution_count": null,
   "metadata": {},
   "outputs": [],
   "source": []
  }
 ],
 "metadata": {
  "kernelspec": {
   "display_name": "Python 3.9.12 ('makineogrenmesi')",
   "language": "python",
   "name": "python3"
  },
  "language_info": {
   "codemirror_mode": {
    "name": "ipython",
    "version": 3
   },
   "file_extension": ".py",
   "mimetype": "text/x-python",
   "name": "python",
   "nbconvert_exporter": "python",
   "pygments_lexer": "ipython3",
   "version": "3.9.12"
  },
  "orig_nbformat": 4,
  "vscode": {
   "interpreter": {
    "hash": "f3d545b89b9a3c9ddf5badb256858a9138f5d105a299874fc3cf75d71084a77c"
   }
  }
 },
 "nbformat": 4,
 "nbformat_minor": 2
}
