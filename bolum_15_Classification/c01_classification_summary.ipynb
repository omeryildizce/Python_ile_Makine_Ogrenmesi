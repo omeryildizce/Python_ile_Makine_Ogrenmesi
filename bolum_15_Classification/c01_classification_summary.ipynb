{
 "cells": [
  {
   "cell_type": "markdown",
   "metadata": {},
   "source": [
    "Kütüphaneler"
   ]
  },
  {
   "cell_type": "code",
   "execution_count": 45,
   "metadata": {},
   "outputs": [],
   "source": [
    "import numpy as np\n",
    "import matplotlib.pyplot as plt\n",
    "import pandas as pd\n",
    "from sklearn.metrics import confusion_matrix"
   ]
  },
  {
   "cell_type": "markdown",
   "metadata": {},
   "source": [
    "Veri Ön İşleme"
   ]
  },
  {
   "cell_type": "code",
   "execution_count": 46,
   "metadata": {},
   "outputs": [
    {
     "data": {
      "text/html": [
       "<div>\n",
       "<style scoped>\n",
       "    .dataframe tbody tr th:only-of-type {\n",
       "        vertical-align: middle;\n",
       "    }\n",
       "\n",
       "    .dataframe tbody tr th {\n",
       "        vertical-align: top;\n",
       "    }\n",
       "\n",
       "    .dataframe thead th {\n",
       "        text-align: right;\n",
       "    }\n",
       "</style>\n",
       "<table border=\"1\" class=\"dataframe\">\n",
       "  <thead>\n",
       "    <tr style=\"text-align: right;\">\n",
       "      <th></th>\n",
       "      <th>ulke</th>\n",
       "      <th>boy</th>\n",
       "      <th>kilo</th>\n",
       "      <th>yas</th>\n",
       "      <th>cinsiyet</th>\n",
       "    </tr>\n",
       "  </thead>\n",
       "  <tbody>\n",
       "    <tr>\n",
       "      <th>0</th>\n",
       "      <td>tr</td>\n",
       "      <td>130</td>\n",
       "      <td>30</td>\n",
       "      <td>10</td>\n",
       "      <td>e</td>\n",
       "    </tr>\n",
       "    <tr>\n",
       "      <th>1</th>\n",
       "      <td>tr</td>\n",
       "      <td>125</td>\n",
       "      <td>36</td>\n",
       "      <td>11</td>\n",
       "      <td>e</td>\n",
       "    </tr>\n",
       "    <tr>\n",
       "      <th>2</th>\n",
       "      <td>tr</td>\n",
       "      <td>135</td>\n",
       "      <td>34</td>\n",
       "      <td>10</td>\n",
       "      <td>k</td>\n",
       "    </tr>\n",
       "    <tr>\n",
       "      <th>3</th>\n",
       "      <td>tr</td>\n",
       "      <td>133</td>\n",
       "      <td>30</td>\n",
       "      <td>9</td>\n",
       "      <td>k</td>\n",
       "    </tr>\n",
       "    <tr>\n",
       "      <th>4</th>\n",
       "      <td>tr</td>\n",
       "      <td>129</td>\n",
       "      <td>38</td>\n",
       "      <td>12</td>\n",
       "      <td>e</td>\n",
       "    </tr>\n",
       "    <tr>\n",
       "      <th>5</th>\n",
       "      <td>tr</td>\n",
       "      <td>180</td>\n",
       "      <td>90</td>\n",
       "      <td>30</td>\n",
       "      <td>e</td>\n",
       "    </tr>\n",
       "    <tr>\n",
       "      <th>6</th>\n",
       "      <td>tr</td>\n",
       "      <td>190</td>\n",
       "      <td>80</td>\n",
       "      <td>25</td>\n",
       "      <td>e</td>\n",
       "    </tr>\n",
       "    <tr>\n",
       "      <th>7</th>\n",
       "      <td>tr</td>\n",
       "      <td>175</td>\n",
       "      <td>90</td>\n",
       "      <td>35</td>\n",
       "      <td>e</td>\n",
       "    </tr>\n",
       "    <tr>\n",
       "      <th>8</th>\n",
       "      <td>tr</td>\n",
       "      <td>177</td>\n",
       "      <td>60</td>\n",
       "      <td>22</td>\n",
       "      <td>k</td>\n",
       "    </tr>\n",
       "    <tr>\n",
       "      <th>9</th>\n",
       "      <td>us</td>\n",
       "      <td>185</td>\n",
       "      <td>105</td>\n",
       "      <td>33</td>\n",
       "      <td>e</td>\n",
       "    </tr>\n",
       "    <tr>\n",
       "      <th>10</th>\n",
       "      <td>us</td>\n",
       "      <td>165</td>\n",
       "      <td>55</td>\n",
       "      <td>27</td>\n",
       "      <td>k</td>\n",
       "    </tr>\n",
       "    <tr>\n",
       "      <th>11</th>\n",
       "      <td>us</td>\n",
       "      <td>155</td>\n",
       "      <td>50</td>\n",
       "      <td>44</td>\n",
       "      <td>k</td>\n",
       "    </tr>\n",
       "    <tr>\n",
       "      <th>12</th>\n",
       "      <td>us</td>\n",
       "      <td>160</td>\n",
       "      <td>58</td>\n",
       "      <td>39</td>\n",
       "      <td>k</td>\n",
       "    </tr>\n",
       "    <tr>\n",
       "      <th>13</th>\n",
       "      <td>us</td>\n",
       "      <td>162</td>\n",
       "      <td>59</td>\n",
       "      <td>41</td>\n",
       "      <td>k</td>\n",
       "    </tr>\n",
       "    <tr>\n",
       "      <th>14</th>\n",
       "      <td>us</td>\n",
       "      <td>167</td>\n",
       "      <td>62</td>\n",
       "      <td>55</td>\n",
       "      <td>k</td>\n",
       "    </tr>\n",
       "    <tr>\n",
       "      <th>15</th>\n",
       "      <td>fr</td>\n",
       "      <td>174</td>\n",
       "      <td>70</td>\n",
       "      <td>47</td>\n",
       "      <td>e</td>\n",
       "    </tr>\n",
       "    <tr>\n",
       "      <th>16</th>\n",
       "      <td>fr</td>\n",
       "      <td>193</td>\n",
       "      <td>90</td>\n",
       "      <td>23</td>\n",
       "      <td>e</td>\n",
       "    </tr>\n",
       "    <tr>\n",
       "      <th>17</th>\n",
       "      <td>fr</td>\n",
       "      <td>187</td>\n",
       "      <td>80</td>\n",
       "      <td>27</td>\n",
       "      <td>e</td>\n",
       "    </tr>\n",
       "    <tr>\n",
       "      <th>18</th>\n",
       "      <td>fr</td>\n",
       "      <td>183</td>\n",
       "      <td>88</td>\n",
       "      <td>28</td>\n",
       "      <td>e</td>\n",
       "    </tr>\n",
       "    <tr>\n",
       "      <th>19</th>\n",
       "      <td>fr</td>\n",
       "      <td>159</td>\n",
       "      <td>40</td>\n",
       "      <td>29</td>\n",
       "      <td>k</td>\n",
       "    </tr>\n",
       "    <tr>\n",
       "      <th>20</th>\n",
       "      <td>fr</td>\n",
       "      <td>164</td>\n",
       "      <td>66</td>\n",
       "      <td>32</td>\n",
       "      <td>k</td>\n",
       "    </tr>\n",
       "    <tr>\n",
       "      <th>21</th>\n",
       "      <td>fr</td>\n",
       "      <td>166</td>\n",
       "      <td>56</td>\n",
       "      <td>42</td>\n",
       "      <td>k</td>\n",
       "    </tr>\n",
       "  </tbody>\n",
       "</table>\n",
       "</div>"
      ],
      "text/plain": [
       "   ulke  boy  kilo  yas cinsiyet\n",
       "0    tr  130    30   10        e\n",
       "1    tr  125    36   11        e\n",
       "2    tr  135    34   10        k\n",
       "3    tr  133    30    9        k\n",
       "4    tr  129    38   12        e\n",
       "5    tr  180    90   30        e\n",
       "6    tr  190    80   25        e\n",
       "7    tr  175    90   35        e\n",
       "8    tr  177    60   22        k\n",
       "9    us  185   105   33        e\n",
       "10   us  165    55   27        k\n",
       "11   us  155    50   44        k\n",
       "12   us  160    58   39        k\n",
       "13   us  162    59   41        k\n",
       "14   us  167    62   55        k\n",
       "15   fr  174    70   47        e\n",
       "16   fr  193    90   23        e\n",
       "17   fr  187    80   27        e\n",
       "18   fr  183    88   28        e\n",
       "19   fr  159    40   29        k\n",
       "20   fr  164    66   32        k\n",
       "21   fr  166    56   42        k"
      ]
     },
     "execution_count": 46,
     "metadata": {},
     "output_type": "execute_result"
    }
   ],
   "source": [
    "veriler = pd.read_csv(\"../veri/veriler.csv\")\n",
    "veriler"
   ]
  },
  {
   "cell_type": "code",
   "execution_count": 47,
   "metadata": {},
   "outputs": [],
   "source": [
    "x = veriler.iloc[:,1:4]\n",
    "y = veriler.iloc[:,4:].values"
   ]
  },
  {
   "cell_type": "markdown",
   "metadata": {},
   "source": [
    "Verilerin eğitim ve test için bölünmesi"
   ]
  },
  {
   "cell_type": "code",
   "execution_count": 48,
   "metadata": {},
   "outputs": [],
   "source": [
    "from sklearn.model_selection import train_test_split\n",
    "x_train, x_test, y_train, y_test = train_test_split(x, y, test_size=0.33, random_state=0)"
   ]
  },
  {
   "cell_type": "markdown",
   "metadata": {},
   "source": [
    "Verilerin ölçeklenmesi"
   ]
  },
  {
   "cell_type": "code",
   "execution_count": 49,
   "metadata": {},
   "outputs": [],
   "source": [
    "from sklearn.preprocessing import StandardScaler\n",
    "sc = StandardScaler()\n",
    "X_train = sc.fit_transform(x_train)\n",
    "X_test = sc.transform(x_test) "
   ]
  },
  {
   "cell_type": "markdown",
   "metadata": {},
   "source": [
    "1. Logistic Regression"
   ]
  },
  {
   "cell_type": "code",
   "execution_count": 50,
   "metadata": {},
   "outputs": [
    {
     "name": "stdout",
     "output_type": "stream",
     "text": [
      "['e' 'e' 'e' 'e' 'k' 'e' 'e' 'e']\n",
      "['k' 'k' 'k' 'k' 'e' 'k' 'k' 'k']\n",
      "[[0 1]\n",
      " [7 0]]\n"
     ]
    }
   ],
   "source": [
    "from sklearn.linear_model import LogisticRegression\n",
    "logr = LogisticRegression(random_state=0)\n",
    "logr.fit(X_train,y_train.ravel())\n",
    "y_pred = logr.predict(X_test)\n",
    "\n",
    "print(y_pred)\n",
    "print(y_test.T[0])\n",
    "cm = confusion_matrix(y_test, y_pred)\n",
    "print(cm)"
   ]
  },
  {
   "cell_type": "markdown",
   "metadata": {},
   "source": [
    "2. KNN"
   ]
  },
  {
   "cell_type": "code",
   "execution_count": 51,
   "metadata": {},
   "outputs": [
    {
     "name": "stdout",
     "output_type": "stream",
     "text": [
      "['k' 'k' 'e' 'k' 'e' 'k' 'k' 'k']\n",
      "['k' 'k' 'k' 'k' 'e' 'k' 'k' 'k']\n",
      "[[1 0]\n",
      " [1 6]]\n"
     ]
    }
   ],
   "source": [
    "from sklearn.neighbors import KNeighborsClassifier\n",
    "knn = KNeighborsClassifier(n_neighbors=1, metric=\"minkowski\")\n",
    "knn.fit(X_train, y_train.ravel())\n",
    "y_pred = knn.predict(X_test)\n",
    "\n",
    "print(y_pred)\n",
    "print(y_test.T[0])\n",
    "cm = confusion_matrix(y_test, y_pred)\n",
    "print(cm)"
   ]
  },
  {
   "cell_type": "markdown",
   "metadata": {},
   "source": [
    "3. SVC (SVM Classifier)"
   ]
  },
  {
   "cell_type": "code",
   "execution_count": 52,
   "metadata": {},
   "outputs": [
    {
     "name": "stdout",
     "output_type": "stream",
     "text": [
      "['e' 'e' 'e' 'e' 'e' 'e' 'e' 'e']\n",
      "['k' 'k' 'k' 'k' 'e' 'k' 'k' 'k']\n",
      "[[1 0]\n",
      " [7 0]]\n"
     ]
    }
   ],
   "source": [
    "from sklearn.svm import SVC\n",
    "svc = SVC(kernel=\"poly\")\n",
    "svc.fit(X_train, y_train.ravel() )\n",
    "y_pred = svc.predict(X_test)\n",
    "\n",
    "print(y_pred)\n",
    "print(y_test.T[0])\n",
    "cm = confusion_matrix(y_test, y_pred)\n",
    "print(cm)"
   ]
  },
  {
   "cell_type": "markdown",
   "metadata": {},
   "source": [
    "4. Naive Bayes"
   ]
  },
  {
   "cell_type": "code",
   "execution_count": 53,
   "metadata": {},
   "outputs": [
    {
     "name": "stdout",
     "output_type": "stream",
     "text": [
      "['e' 'e' 'e' 'e' 'k' 'e' 'e' 'k']\n",
      "['k' 'k' 'k' 'k' 'e' 'k' 'k' 'k']\n",
      "[[0 1]\n",
      " [6 1]]\n"
     ]
    }
   ],
   "source": [
    "from sklearn.naive_bayes import GaussianNB\n",
    "gnb = GaussianNB()\n",
    "gnb.fit(X_train, y_train.ravel())\n",
    "y_pred = gnb.predict(X_test)\n",
    "\n",
    "print(y_pred)\n",
    "print(y_test.T[0])\n",
    "cm = confusion_matrix(y_test, y_pred)\n",
    "print(cm)"
   ]
  },
  {
   "cell_type": "markdown",
   "metadata": {},
   "source": [
    "5. Decision tree"
   ]
  },
  {
   "cell_type": "code",
   "execution_count": 54,
   "metadata": {},
   "outputs": [
    {
     "name": "stdout",
     "output_type": "stream",
     "text": [
      "['e' 'k' 'k' 'k' 'e' 'k' 'k' 'k']\n",
      "['k' 'k' 'k' 'k' 'e' 'k' 'k' 'k']\n",
      "[[1 0]\n",
      " [1 6]]\n"
     ]
    }
   ],
   "source": [
    "from sklearn.tree import DecisionTreeClassifier\n",
    "dtc = DecisionTreeClassifier(criterion=\"entropy\")\n",
    "dtc.fit(X_train, y_train)\n",
    "y_pred = dtc.predict(X_test)\n",
    "\n",
    "print(y_pred)\n",
    "print(y_test.T[0])\n",
    "cm = confusion_matrix(y_test, y_pred)\n",
    "print(cm)"
   ]
  },
  {
   "cell_type": "markdown",
   "metadata": {},
   "source": [
    "6. Random Forest"
   ]
  },
  {
   "cell_type": "code",
   "execution_count": 55,
   "metadata": {},
   "outputs": [
    {
     "name": "stdout",
     "output_type": "stream",
     "text": [
      "['k' 'k' 'k' 'k' 'e' 'k' 'k' 'k']\n",
      "['k' 'k' 'k' 'k' 'e' 'k' 'k' 'k']\n",
      "[[1 0]\n",
      " [0 7]]\n"
     ]
    }
   ],
   "source": [
    "from sklearn.ensemble import RandomForestClassifier\n",
    "rfc = RandomForestClassifier(n_estimators=10, criterion = \"entropy\")\n",
    "rfc.fit(X_train, y_train.ravel())\n",
    "y_pred = rfc.predict(X_test)\n",
    "print(y_pred)\n",
    "print(y_test.T[0])\n",
    "cm = confusion_matrix(y_test, y_pred)\n",
    "print(cm)"
   ]
  },
  {
   "cell_type": "code",
   "execution_count": 58,
   "metadata": {},
   "outputs": [
    {
     "name": "stdout",
     "output_type": "stream",
     "text": [
      "[[0.4 0.2 0.2 0.2 0.5 0.2 0.2 0.4]\n",
      " [0.6 0.8 0.8 0.8 0.5 0.8 0.8 0.6]]\n",
      "['k' 'k' 'k' 'k' 'e' 'k' 'k' 'k']\n"
     ]
    }
   ],
   "source": [
    "\n",
    "y_proba = rfc.predict_proba(X_test)\n",
    "print(y_proba.T)\n",
    "print(y_test.T[0])"
   ]
  },
  {
   "cell_type": "code",
   "execution_count": 57,
   "metadata": {},
   "outputs": [
    {
     "name": "stdout",
     "output_type": "stream",
     "text": [
      "[0.         0.         0.28571429 1.        ]\n",
      "[0. 1. 1. 1.]\n",
      "[1.5 0.5 0.4 0.2]\n"
     ]
    }
   ],
   "source": [
    "from sklearn.metrics import roc_curve\n",
    "fpr,tpr, thold =  roc_curve(y_test, y_proba[:,0], pos_label=\"e\")\n",
    "print(fpr)\n",
    "print(tpr)\n",
    "print(thold)"
   ]
  },
  {
   "cell_type": "code",
   "execution_count": null,
   "metadata": {},
   "outputs": [],
   "source": []
  }
 ],
 "metadata": {
  "kernelspec": {
   "display_name": "Python 3.10.8 ('makine': venv)",
   "language": "python",
   "name": "python3"
  },
  "language_info": {
   "codemirror_mode": {
    "name": "ipython",
    "version": 3
   },
   "file_extension": ".py",
   "mimetype": "text/x-python",
   "name": "python",
   "nbconvert_exporter": "python",
   "pygments_lexer": "ipython3",
   "version": "3.10.8"
  },
  "orig_nbformat": 4,
  "vscode": {
   "interpreter": {
    "hash": "2d6dd697dca358324e777570936314129a584fbe26cc797562764b79c5dd24b3"
   }
  }
 },
 "nbformat": 4,
 "nbformat_minor": 2
}
